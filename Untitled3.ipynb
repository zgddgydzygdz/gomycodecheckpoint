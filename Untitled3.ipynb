{
 "cells": [
  {
   "cell_type": "markdown",
   "id": "883a3ded",
   "metadata": {},
   "source": [
    "# question 1"
   ]
  },
  {
   "cell_type": "code",
   "execution_count": 7,
   "id": "e9e11711",
   "metadata": {},
   "outputs": [
    {
     "name": "stdout",
     "output_type": "stream",
     "text": [
      "first name is kim\n",
      "last name is kardashian\n",
      "kardashian kim\n"
     ]
    }
   ],
   "source": [
    "firstname = input(\"first name is \")\n",
    "lastname = input (\"last name is \")\n",
    "\n",
    "print(lastname + \" \" + firstname)"
   ]
  },
  {
   "cell_type": "markdown",
   "id": "474f6fdd",
   "metadata": {},
   "source": [
    "# question 2"
   ]
  },
  {
   "cell_type": "code",
   "execution_count": 1,
   "id": "4ef36804",
   "metadata": {},
   "outputs": [
    {
     "name": "stdout",
     "output_type": "stream",
     "text": [
      "5 + 55 + 555 = 555\n"
     ]
    }
   ],
   "source": [
    "n = 5\n",
    "x = 0\n",
    "for i in range(3):\n",
    "    v = str(n)*(i+1)\n",
    "    v = int(v)\n",
    "    s = x + v\n",
    "    \n",
    "print(str(n), \"+\", str(n)*2, \"+\", str(n)*3, \"=\", s)"
   ]
  },
  {
   "cell_type": "markdown",
   "id": "183af959",
   "metadata": {},
   "source": [
    "# question 3"
   ]
  },
  {
   "cell_type": "code",
   "execution_count": 4,
   "id": "e2c8fb20",
   "metadata": {},
   "outputs": [
    {
     "name": "stdout",
     "output_type": "stream",
     "text": [
      "x = 5\n",
      "Impair\n"
     ]
    }
   ],
   "source": [
    "n = int(input(\"x = \"))\n",
    "if n%2 == 0:\n",
    "    print(\"Pair\")\n",
    "else:\n",
    "    print(\"Impair\")"
   ]
  },
  {
   "cell_type": "markdown",
   "id": "24de958a",
   "metadata": {},
   "source": [
    "# question 4"
   ]
  },
  {
   "cell_type": "code",
   "execution_count": 13,
   "id": "4c768f0f",
   "metadata": {},
   "outputs": [
    {
     "name": "stdout",
     "output_type": "stream",
     "text": [
      "2002, 2009, 2016, 2023, 2037, 2044, 2051, 2058, 2072, 2079, 2086, 2093, 2107, 2114, 2121, 2128, 2142, 2149, 2156, 2163, 2177, 2184, 2191, 2198, 2212, 2219, 2226, 2233, 2247, 2254, 2261, 2268, 2282, 2289, 2296, 2303, 2317, 2324, 2331, 2338, 2352, 2359, 2366, 2373, 2387, 2394, 2401, 2408, 2422, 2429, 2436, 2443, 2457, 2464, 2471, 2478, 2492, 2499, 2506, 2513, 2527, 2534, 2541, 2548, 2562, 2569, 2576, 2583, 2597, 2604, 2611, 2618, 2632, 2639, 2646, 2653, 2667, 2674, 2681, 2688, 2702, 2709, 2716, 2723, 2737, 2744, 2751, 2758, 2772, 2779, 2786, 2793, 2807, 2814, 2821, 2828, 2842, 2849, 2856, 2863, 2877, 2884, 2891, 2898, 2912, 2919, 2926, 2933, 2947, 2954, 2961, 2968, 2982, 2989, 2996, 3003, 3017, 3024, 3031, 3038, 3052, 3059, 3066, 3073, 3087, 3094, 3101, 3108, 3122, 3129, 3136, 3143, 3157, 3164, 3171, 3178, 3192, 3199, "
     ]
    }
   ],
   "source": [
    "for n in range (2000,3201):\n",
    "      if n%7 == 0 and n%5 != 0:\n",
    "        print(n, end=\", \")"
   ]
  },
  {
   "cell_type": "markdown",
   "id": "7acf66e7",
   "metadata": {},
   "source": [
    "# question 5"
   ]
  },
  {
   "cell_type": "code",
   "execution_count": 7,
   "id": "bbf3c68c",
   "metadata": {},
   "outputs": [
    {
     "name": "stdout",
     "output_type": "stream",
     "text": [
      "4 ! =  24\n"
     ]
    }
   ],
   "source": [
    "f = 1\n",
    "n = 4\n",
    "for i in range(n):\n",
    "    f = f*(i+1)\n",
    "print(n, \"! = \", f)"
   ]
  },
  {
   "cell_type": "markdown",
   "id": "3f640ccd",
   "metadata": {},
   "source": [
    "# question 6"
   ]
  },
  {
   "cell_type": "code",
   "execution_count": 14,
   "id": "29d02e7f",
   "metadata": {},
   "outputs": [
    {
     "name": "stdout",
     "output_type": "stream",
     "text": [
      "hlota\n"
     ]
    }
   ],
   "source": [
    "s = \"hello team\"\n",
    "cv = \"\"\n",
    "for i in range(0, len(s), 2):\n",
    "    cv = cv + s[i]\n",
    "print(cv)"
   ]
  },
  {
   "cell_type": "markdown",
   "id": "84bbb45c",
   "metadata": {},
   "source": [
    "# question 7"
   ]
  },
  {
   "cell_type": "code",
   "execution_count": 17,
   "id": "f9752728",
   "metadata": {},
   "outputs": [
    {
     "name": "stdout",
     "output_type": "stream",
     "text": [
      "Discounted price =  45.0\n"
     ]
    }
   ],
   "source": [
    "price = 50\n",
    "\n",
    "if price >= 500:\n",
    "    discount = 50\n",
    "elif price >=200:\n",
    "    discount = 30\n",
    "else:\n",
    "    discount = 10\n",
    "print(\"Discounted price = \", price*(100 - discount)/100)"
   ]
  }
 ],
 "metadata": {
  "kernelspec": {
   "display_name": "Python 3 (ipykernel)",
   "language": "python",
   "name": "python3"
  },
  "language_info": {
   "codemirror_mode": {
    "name": "ipython",
    "version": 3
   },
   "file_extension": ".py",
   "mimetype": "text/x-python",
   "name": "python",
   "nbconvert_exporter": "python",
   "pygments_lexer": "ipython3",
   "version": "3.9.7"
  }
 },
 "nbformat": 4,
 "nbformat_minor": 5
}
